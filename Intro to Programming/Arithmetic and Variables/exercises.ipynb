{
 "cells": [
  {
   "cell_type": "code",
   "execution_count": null,
   "metadata": {},
   "outputs": [],
   "source": [
    "# Set up the exercise\n",
    "from learntools.core import binder\n",
    "binder.bind(globals())\n",
    "from learntools.intro_to_programming.ex1 import *\n",
    "print('Setup complete.')"
   ]
  },
  {
   "cell_type": "markdown",
   "metadata": {},
   "source": [
    "Exercise 1"
   ]
  },
  {
   "cell_type": "code",
   "execution_count": null,
   "metadata": {},
   "outputs": [],
   "source": [
    "print(\"Hello, world!\")\n",
    "\n",
    "# DO NOT REMOVE: Mark this question as completed\n",
    "q1.check()"
   ]
  },
  {
   "cell_type": "markdown",
   "metadata": {},
   "source": [
    "Exercise 2"
   ]
  },
  {
   "cell_type": "code",
   "execution_count": null,
   "metadata": {},
   "outputs": [],
   "source": [
    "# TODO: Change the message\n",
    "print(\"3+4\")\n",
    "\n",
    "# DO NOT REMOVE: Mark this question as completed \n",
    "q2.check()"
   ]
  },
  {
   "cell_type": "markdown",
   "metadata": {},
   "source": [
    "Exercise 4"
   ]
  },
  {
   "cell_type": "code",
   "execution_count": null,
   "metadata": {},
   "outputs": [],
   "source": [
    "# Create variables\n",
    "num_years = 4\n",
    "days_per_year = 365 \n",
    "hours_per_day = 24\n",
    "mins_per_hour = 60\n",
    "secs_per_min = 60\n",
    "\n",
    "# Calculate number of seconds in four years\n",
    "total_secs = secs_per_min * mins_per_hour * hours_per_day * days_per_year * num_years\n",
    "print(total_secs)"
   ]
  },
  {
   "cell_type": "code",
   "execution_count": null,
   "metadata": {},
   "outputs": [],
   "source": [
    "# TODO: Set the value of the births_per_min variable\n",
    "births_per_min = 250\n",
    "\n",
    "# TODO: Set the value of the births_per_day variable\n",
    "births_per_day = births_per_min * mins_per_hour * hours_per_day\n",
    "\n",
    "# DO NOT REMOVE: Check your answer\n",
    "q4.check()"
   ]
  },
  {
   "cell_type": "markdown",
   "metadata": {},
   "source": [
    "Question 5"
   ]
  },
  {
   "cell_type": "code",
   "execution_count": null,
   "metadata": {},
   "outputs": [],
   "source": [
    "# Load the data from the titanic competition\n",
    "import pandas as pd\n",
    "titanic_data = pd.read_csv(\"../input/titanic/train.csv\")\n",
    "\n",
    "# Show the first five rows of the data\n",
    "titanic_data.head()"
   ]
  },
  {
   "cell_type": "code",
   "execution_count": null,
   "metadata": {},
   "outputs": [],
   "source": [
    "# Number of total passengers\n",
    "total = len(titanic_data)\n",
    "print(total)\n",
    "\n",
    "# Number of passengers who survived\n",
    "survived = (titanic_data.Survived == 1).sum()\n",
    "print(survived)\n",
    "\n",
    "# Number of passengers under 18\n",
    "minors = (titanic_data.Age < 18).sum()\n",
    "print(minors)"
   ]
  },
  {
   "cell_type": "code",
   "execution_count": null,
   "metadata": {},
   "outputs": [],
   "source": [
    "# TODO: Fill in the value of the survived_fraction variable\n",
    "survived_fraction = survived / total \n",
    "\n",
    "# Print the value of the variable\n",
    "print(survived_fraction)\n",
    "\n",
    "# TODO: Fill in the value of the minors_fraction variable\n",
    "minors_fraction = minors / total \n",
    "\n",
    "# Print the value of the variable\n",
    "print(minors_fraction)\n",
    "\n",
    "# DO NOT REMOVE: Check your answer\n",
    "q5.check()"
   ]
  }
 ],
 "metadata": {
  "language_info": {
   "name": "python"
  },
  "orig_nbformat": 4
 },
 "nbformat": 4,
 "nbformat_minor": 2
}
