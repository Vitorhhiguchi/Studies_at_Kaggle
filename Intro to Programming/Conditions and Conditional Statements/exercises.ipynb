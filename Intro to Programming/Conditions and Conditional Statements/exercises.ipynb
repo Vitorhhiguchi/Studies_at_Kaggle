{
 "cells": [
  {
   "cell_type": "code",
   "execution_count": null,
   "metadata": {},
   "outputs": [],
   "source": [
    "from learntools.core import binder\n",
    "binder.bind(globals())\n",
    "from learntools.intro_to_programming.ex4 import *\n",
    "print('Setup complete.')"
   ]
  },
  {
   "cell_type": "markdown",
   "metadata": {},
   "source": [
    "Question 1"
   ]
  },
  {
   "cell_type": "code",
   "execution_count": null,
   "metadata": {},
   "outputs": [],
   "source": [
    "# TODO: Edit the function to return the correct grade for different scores\n",
    "def get_grade(score):\n",
    "    if score >= 90:\n",
    "        grade = \"A\"\n",
    "    elif score >= 80:\n",
    "        grade = \"B\"\n",
    "    elif score >= 70:\n",
    "        grade = \"C\"\n",
    "    elif score >= 60:\n",
    "        grade = \"D\"\n",
    "    else:\n",
    "        grade = \"F\"\n",
    "    return grade\n",
    "    \n",
    "# Check your answer\n",
    "q1.check()"
   ]
  },
  {
   "cell_type": "markdown",
   "metadata": {},
   "source": [
    "Question 2"
   ]
  },
  {
   "cell_type": "code",
   "execution_count": null,
   "metadata": {},
   "outputs": [],
   "source": [
    "def cost_of_project(engraving, solid_gold):\n",
    "    if solid_gold == True:\n",
    "        cost = len(engraving) * 10 + 100 \n",
    "    else:\n",
    "        cost = len(engraving) * 7 + 50\n",
    "    return cost\n",
    "\n",
    "# Check your answer\n",
    "q2.check()"
   ]
  },
  {
   "cell_type": "markdown",
   "metadata": {},
   "source": [
    "Question 3"
   ]
  },
  {
   "cell_type": "code",
   "execution_count": null,
   "metadata": {},
   "outputs": [],
   "source": [
    "# TODO: Edit the function to return the correct bill for different\n",
    "# values of num_gallons\n",
    "def get_water_bill(num_gallons):\n",
    "    gallons_simplifieds = num_gallons / 1000\n",
    "    if num_gallons >= 30001:\n",
    "        bill = gallons_simplifieds * 10\n",
    "    elif num_gallons >= 22001:\n",
    "        bill = gallons_simplifieds * 7\n",
    "    elif num_gallons >= 8001:\n",
    "        bill = gallons_simplifieds * 6\n",
    "    else:\n",
    "        bill = gallons_simplifieds * 5\n",
    "    return bill\n",
    "\n",
    "# Check your answer\n",
    "q3.check()"
   ]
  },
  {
   "cell_type": "markdown",
   "metadata": {},
   "source": [
    "Question 4"
   ]
  },
  {
   "cell_type": "code",
   "execution_count": null,
   "metadata": {},
   "outputs": [],
   "source": [
    "# TODO: Edit the function to return the correct bill for different\n",
    "# values of GB\n",
    "def get_phone_bill(gb):\n",
    "    if gb <= 15:\n",
    "        bill = 100\n",
    "    else:\n",
    "        exceeded_limit = gb - 15\n",
    "        bill = 100 + exceeded_limit * 100\n",
    "    return bill\n",
    "\n",
    "# Check your answer\n",
    "q4.check()"
   ]
  },
  {
   "cell_type": "markdown",
   "metadata": {},
   "source": [
    "Question 5"
   ]
  },
  {
   "cell_type": "code",
   "execution_count": null,
   "metadata": {},
   "outputs": [],
   "source": [
    "# import functions needed to make get_labels work\n",
    "from learntools.intro_to_programming.ex4q5 import excess_sugar, excess_saturated_fat, excess_trans_fat, excess_sodium, excess_calories\n",
    "\n",
    "def get_labels(food_type, serving_size, calories_per_serving, saturated_fat_g, trans_fat_g, sodium_mg, sugars_g):\n",
    "    # Print messages based on findings\n",
    "    if excess_sugar(sugars_g, calories_per_serving) == True:\n",
    "        print(\"EXCESO AZÚCARES / EXCESS SUGAR\")\n",
    "    if excess_saturated_fat(saturated_fat_g, calories_per_serving) == True:\n",
    "        print(\"EXCESO GRASAS SATURADAS / EXCESS SATURATED FAT\")\n",
    "    if excess_trans_fat(trans_fat_g, calories_per_serving) == True:\n",
    "        print(\"EXCESO GRASAS TRANS / EXCESS TRANS FAT\")\n",
    "    if excess_sodium(calories_per_serving, sodium_mg) == True:\n",
    "        print(\"EXCESO SODIO / EXCESS SODIUM\")\n",
    "    if excess_calories(food_type, calories_per_serving, serving_size) == True:\n",
    "        print(\"EXCESO CALORÍAS / EXCESS CALORIES\")"
   ]
  },
  {
   "cell_type": "code",
   "execution_count": null,
   "metadata": {},
   "outputs": [],
   "source": [
    "# bologna https://world.openfoodfacts.org/product/4099100179378/bologna\n",
    "get_labels(\"solid\", 32, 110, 2.5, 0, 400, 1)"
   ]
  },
  {
   "cell_type": "code",
   "execution_count": null,
   "metadata": {},
   "outputs": [],
   "source": [
    "# zucaritas cereal https://world.openfoodfacts.org/product/7501008023624/zucaritas-kellogg-s\n",
    "# TODO: Uncomment the line below, fill in the values, and run the function\n",
    "get_labels(\"solid\", 710, 150, 0, 0, 150, 16)"
   ]
  },
  {
   "cell_type": "code",
   "execution_count": null,
   "metadata": {},
   "outputs": [],
   "source": [
    "# mozzarella sticks https://world-es.openfoodfacts.org/producto/0062325540104/mozzarella-cheese-sticks\n",
    "# TODO: Uncomment the line below, fill in the values, and run the function\n",
    "get_labels(\"solid\", 100, 323000, 14.286, 0, 990.4, 0)"
   ]
  },
  {
   "cell_type": "code",
   "execution_count": null,
   "metadata": {},
   "outputs": [],
   "source": [
    "# pillsbury cookies https://world.openfoodfacts.org/product/0069700118545/biscuits-au-sucre-pretraches\n",
    "# TODO: Uncomment the line below, fill in the values, and run the function\n",
    "get_labels()"
   ]
  },
  {
   "cell_type": "code",
   "execution_count": null,
   "metadata": {},
   "outputs": [],
   "source": [
    "# sunkist orange soda https://world-es.openfoodfacts.org/producto/0078000113464/orange-soda-sunkist\n",
    "# TODO: Uncomment the line below, fill in the values, and run the function\n",
    "get_labels()"
   ]
  }
 ],
 "metadata": {
  "language_info": {
   "name": "python"
  },
  "orig_nbformat": 4
 },
 "nbformat": 4,
 "nbformat_minor": 2
}
